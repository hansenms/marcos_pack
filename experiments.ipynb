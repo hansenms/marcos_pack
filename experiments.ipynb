{
 "cells": [
  {
   "cell_type": "code",
   "execution_count": null,
   "id": "cba5b135",
   "metadata": {},
   "outputs": [],
   "source": [
    "import sys\n",
    "sys.path.append(\"/workspaces/marcos_pack/marcos_client\")"
   ]
  },
  {
   "cell_type": "code",
   "execution_count": null,
   "id": "8440c340",
   "metadata": {},
   "outputs": [],
   "source": [
    "import numpy as np\n",
    "import matplotlib.pyplot as plt\n",
    "import experiment as ex"
   ]
  },
  {
   "cell_type": "code",
   "execution_count": null,
   "id": "d009f68d",
   "metadata": {},
   "outputs": [],
   "source": [
    "import subprocess\n",
    "\n",
    "def check_marga_sim_running():\n",
    "    try:\n",
    "        # List all processes and search for 'marga_sim'\n",
    "        result = subprocess.run(['ps', 'aux'], capture_output=True, text=True)\n",
    "        if 'marga_sim' not in result.stdout:\n",
    "            raise RuntimeError(\"Please open a terminal and run `./marga/build/marga_sim csv`\")\n",
    "    except Exception as e:\n",
    "        raise RuntimeError(str(e))\n",
    "\n",
    "check_marga_sim_running()"
   ]
  },
  {
   "cell_type": "code",
   "execution_count": null,
   "id": "d1454f05",
   "metadata": {},
   "outputs": [],
   "source": [
    "exp = ex.Experiment(lo_freq=5, rx_t=3.125)\n",
    "tx0_times = np.array([50, 130])\n",
    "tx0_amps = np.array([0.5, 0])\n",
    "\n",
    "event_dict = {\"tx0\": (tx0_times, tx0_amps)}\n",
    "exp.add_flodict(event_dict)\n",
    "exp.add_flodict({\"rx0_en\": (np.array([200, 400]), np.array([1, 0]))})\n",
    "\n",
    "exp.plot_sequence()\n",
    "plt.show()"
   ]
  },
  {
   "cell_type": "code",
   "execution_count": null,
   "id": "4399a1c8",
   "metadata": {},
   "outputs": [],
   "source": [
    "exp = ex.Experiment(lo_freq=5, rx_t=3.125)\n",
    "\n",
    "event_dict = {\n",
    "    \"tx0\": (np.array([50, 130, 200, 360]), np.array([0.5, 0, 0.5j, 0])),\n",
    "    \"tx1\": (np.array([500, 700]), np.array([0.2, 0])),\n",
    "    \"rx0_en\": (np.array([400, 800]), np.array([1, 0])),\n",
    "    \"rx1_en\": (np.array([400, 800]), np.array([1, 0])),\n",
    "}\n",
    "exp.add_flodict(event_dict)\n",
    "exp.plot_sequence()\n",
    "\n",
    "rxd, msgs = exp.run()\n",
    "exp.close_server(only_if_sim=True)\n",
    "\n",
    "plt.figure()\n",
    "plt.plot(np.abs(rxd[\"rx1\"]))\n",
    "plt.show()"
   ]
  },
  {
   "cell_type": "code",
   "execution_count": null,
   "id": "86796fde",
   "metadata": {},
   "outputs": [],
   "source": []
  }
 ],
 "metadata": {
  "kernelspec": {
   "display_name": "Python 3",
   "language": "python",
   "name": "python3"
  },
  "language_info": {
   "codemirror_mode": {
    "name": "ipython",
    "version": 3
   },
   "file_extension": ".py",
   "mimetype": "text/x-python",
   "name": "python",
   "nbconvert_exporter": "python",
   "pygments_lexer": "ipython3",
   "version": "3.12.3"
  }
 },
 "nbformat": 4,
 "nbformat_minor": 5
}
